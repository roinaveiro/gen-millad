{
 "cells": [
  {
   "cell_type": "code",
   "execution_count": 1,
   "id": "78bd1c03",
   "metadata": {},
   "outputs": [],
   "source": [
    "import numpy as np\n",
    "import pandas as pd\n",
    "\n",
    "from sklearn.ensemble import RandomForestRegressor, GradientBoostingRegressor\n",
    "from xgboost.sklearn import XGBRegressor\n",
    "from sklearn.linear_model import LassoCV\n",
    "\n",
    "\n",
    "from config import *\n",
    "from src.model_evaluator import ModelEvaluator\n",
    "from src.models.ngb import NGB"
   ]
  },
  {
   "cell_type": "markdown",
   "id": "613d8a80",
   "metadata": {},
   "source": [
    "# Mordred\n",
    "\n",
    "## Random Forest"
   ]
  },
  {
   "cell_type": "code",
   "execution_count": 3,
   "id": "8dbd32ff",
   "metadata": {},
   "outputs": [
    {
     "name": "stdout",
     "output_type": "stream",
     "text": [
      "Masking 0 feature dims for ['mordred']\n",
      "['ABC' 'ABCGG' 'nAcid' ... 'Zagreb2' 'mZagreb1' 'mZagreb2']\n",
      "-53.52112676056339\n"
     ]
    },
    {
     "data": {
      "text/html": [
       "<div>\n",
       "<style scoped>\n",
       "    .dataframe tbody tr th:only-of-type {\n",
       "        vertical-align: middle;\n",
       "    }\n",
       "\n",
       "    .dataframe tbody tr th {\n",
       "        vertical-align: top;\n",
       "    }\n",
       "\n",
       "    .dataframe thead th {\n",
       "        text-align: right;\n",
       "    }\n",
       "</style>\n",
       "<table border=\"1\" class=\"dataframe\">\n",
       "  <thead>\n",
       "    <tr style=\"text-align: right;\">\n",
       "      <th></th>\n",
       "      <th>R^2</th>\n",
       "      <th>MAE</th>\n",
       "    </tr>\n",
       "  </thead>\n",
       "  <tbody>\n",
       "    <tr>\n",
       "      <th>mean</th>\n",
       "      <td>0.463128</td>\n",
       "      <td>18.322841</td>\n",
       "    </tr>\n",
       "    <tr>\n",
       "      <th>50%</th>\n",
       "      <td>0.464092</td>\n",
       "      <td>18.280246</td>\n",
       "    </tr>\n",
       "    <tr>\n",
       "      <th>std</th>\n",
       "      <td>0.123756</td>\n",
       "      <td>1.807387</td>\n",
       "    </tr>\n",
       "  </tbody>\n",
       "</table>\n",
       "</div>"
      ],
      "text/plain": [
       "           R^2        MAE\n",
       "mean  0.463128  18.322841\n",
       "50%   0.464092  18.280246\n",
       "std   0.123756   1.807387"
      ]
     },
     "execution_count": 3,
     "metadata": {},
     "output_type": "execute_result"
    }
   ],
   "source": [
    "model = RandomForestRegressor()\n",
    "feature_set = [\"mordred\"]\n",
    "neval = ModelEvaluator(data_dir, name, feature_set, model)\n",
    "\n",
    "m = neval.evaluate_hold_out(n_repeats=30)\n",
    "m"
   ]
  },
  {
   "cell_type": "markdown",
   "id": "177eed2f",
   "metadata": {},
   "source": [
    "## Gradient Boosting"
   ]
  },
  {
   "cell_type": "code",
   "execution_count": 4,
   "id": "329a1e6e",
   "metadata": {},
   "outputs": [
    {
     "name": "stdout",
     "output_type": "stream",
     "text": [
      "Masking 0 feature dims for ['mordred']\n",
      "['ABC' 'ABCGG' 'nAcid' ... 'Zagreb2' 'mZagreb1' 'mZagreb2']\n",
      "-53.52112676056339\n"
     ]
    },
    {
     "data": {
      "text/html": [
       "<div>\n",
       "<style scoped>\n",
       "    .dataframe tbody tr th:only-of-type {\n",
       "        vertical-align: middle;\n",
       "    }\n",
       "\n",
       "    .dataframe tbody tr th {\n",
       "        vertical-align: top;\n",
       "    }\n",
       "\n",
       "    .dataframe thead th {\n",
       "        text-align: right;\n",
       "    }\n",
       "</style>\n",
       "<table border=\"1\" class=\"dataframe\">\n",
       "  <thead>\n",
       "    <tr style=\"text-align: right;\">\n",
       "      <th></th>\n",
       "      <th>R^2</th>\n",
       "      <th>MAE</th>\n",
       "    </tr>\n",
       "  </thead>\n",
       "  <tbody>\n",
       "    <tr>\n",
       "      <th>mean</th>\n",
       "      <td>0.383103</td>\n",
       "      <td>19.154267</td>\n",
       "    </tr>\n",
       "    <tr>\n",
       "      <th>50%</th>\n",
       "      <td>0.416613</td>\n",
       "      <td>18.869181</td>\n",
       "    </tr>\n",
       "    <tr>\n",
       "      <th>std</th>\n",
       "      <td>0.157939</td>\n",
       "      <td>1.993582</td>\n",
       "    </tr>\n",
       "  </tbody>\n",
       "</table>\n",
       "</div>"
      ],
      "text/plain": [
       "           R^2        MAE\n",
       "mean  0.383103  19.154267\n",
       "50%   0.416613  18.869181\n",
       "std   0.157939   1.993582"
      ]
     },
     "execution_count": 4,
     "metadata": {},
     "output_type": "execute_result"
    }
   ],
   "source": [
    "model = GradientBoostingRegressor()\n",
    "feature_set = [\"mordred\"]\n",
    "neval = ModelEvaluator(data_dir, name, feature_set, model)\n",
    "\n",
    "m = neval.evaluate_hold_out(n_repeats=30)\n",
    "m"
   ]
  },
  {
   "cell_type": "markdown",
   "id": "8e040c9d",
   "metadata": {},
   "source": [
    "# Morgan"
   ]
  },
  {
   "cell_type": "markdown",
   "id": "56d56e9c",
   "metadata": {},
   "source": [
    "## Random Forest"
   ]
  },
  {
   "cell_type": "code",
   "execution_count": 5,
   "id": "905c3634",
   "metadata": {},
   "outputs": [
    {
     "name": "stdout",
     "output_type": "stream",
     "text": [
      "Masking 0 feature dims for ['morgan']\n",
      "[   1    7   13   22   23   25   27   30   33   35   42   51   54   57\n",
      "   58   62   64   67   68   69   76   78   79   80   87   91   92   94\n",
      "   97   99  101  102  112  113  114  116  122  126  136  140  142  144\n",
      "  145  147  149  159  160  173  175  180  181  183  187  189  190  191\n",
      "  197  204  207  214  216  217  221  222  227  230  233  235  237  242\n",
      "  243  248  249  251  256  259  265  271  273  277  283  289  294  296\n",
      "  298  300  301  302  310  311  321  322  337  345  352  362  365  366\n",
      "  371  375  377  379  387  389  392  394  401  412  414  415  419  422\n",
      "  430  441  442  444  445  457  458  463  465  475  480  482  488  495\n",
      "  497  498  503  513  518  529  531  533  534  541  550  551  553  556\n",
      "  561  562  573  591  592  597  598  604  606  610  624  631  632  635\n",
      "  636  641  647  649  650  666  667  672  674  685  689  694  695  698\n",
      "  699  703  707  713  714  715  718  722  728  732  733  738  740  741\n",
      "  744  745  753  754  755  769  772  775  776  778  780  781  783  784\n",
      "  790  793  794  796  798  802  811  814  816  824  828  829  831  832\n",
      "  833  835  837  838  841  843  845  846  847  852  854  857  870  873\n",
      "  875  880  883  888  890  895  900  902  906  915  918  920  923  926\n",
      "  929  932  933  939  940  942  944  955  958  960  962  963  969  971\n",
      "  972  973  974  975  976  978  979  981  986  990  997 1005 1013 1020\n",
      " 1025 1027 1028 1034 1035 1037 1039 1045 1054 1057 1064 1070 1073 1074\n",
      " 1087 1088 1089 1092 1093 1095 1099 1100 1108 1117 1128 1133 1136 1140\n",
      " 1142 1143 1145 1152 1156 1157 1158 1162 1164 1171 1177 1181 1185 1192\n",
      " 1194 1195 1199 1202 1204 1205 1212 1222 1224 1236 1238 1239 1240 1241\n",
      " 1243 1247 1253 1255 1256 1257 1264 1266 1267 1273 1274 1279 1280 1282\n",
      " 1284 1288 1292 1300 1305 1307 1309 1313 1319 1322 1327 1328 1331 1336\n",
      " 1339 1340 1341 1344 1345 1347 1349 1350 1355 1359 1361 1365 1366 1368\n",
      " 1371 1372 1385 1391 1395 1397 1398 1400 1402 1415 1417 1426 1427 1428\n",
      " 1430 1431 1440 1444 1445 1452 1458 1466 1480 1487 1488 1489 1502 1508\n",
      " 1513 1516 1523 1531 1534 1536 1539 1549 1554 1556 1558 1568 1570 1572\n",
      " 1575 1581 1587 1591 1594 1600 1603 1605 1606 1612 1624 1627 1628 1631\n",
      " 1641 1645 1647 1655 1656 1663 1664 1665 1667 1669 1670 1683 1691 1692\n",
      " 1695 1697 1701 1702 1705 1711 1715 1718 1722 1723 1724 1726 1729 1734\n",
      " 1736 1737 1738 1741 1743 1744 1746 1748 1750 1754 1756 1759 1764 1772\n",
      " 1782 1784 1785 1789 1793 1794 1796 1799 1800 1803 1804 1809 1814 1819\n",
      " 1823 1825 1831 1839 1840 1844 1847 1848 1849 1852 1853 1859 1863 1864\n",
      " 1875 1876 1880 1882 1891 1892 1899 1905 1907 1908 1911 1913 1916 1917\n",
      " 1920 1923 1926 1928 1936 1941 1945 1947 1952 1953 1956 1958 1960 1963\n",
      " 1968 1970 1972 1978 1980 1988 1989 1990 1991 1992 2006 2009 2011 2016\n",
      " 2017 2021 2025 2031 2044]\n",
      "-53.52112676056339\n"
     ]
    },
    {
     "data": {
      "text/html": [
       "<div>\n",
       "<style scoped>\n",
       "    .dataframe tbody tr th:only-of-type {\n",
       "        vertical-align: middle;\n",
       "    }\n",
       "\n",
       "    .dataframe tbody tr th {\n",
       "        vertical-align: top;\n",
       "    }\n",
       "\n",
       "    .dataframe thead th {\n",
       "        text-align: right;\n",
       "    }\n",
       "</style>\n",
       "<table border=\"1\" class=\"dataframe\">\n",
       "  <thead>\n",
       "    <tr style=\"text-align: right;\">\n",
       "      <th></th>\n",
       "      <th>R^2</th>\n",
       "      <th>MAE</th>\n",
       "    </tr>\n",
       "  </thead>\n",
       "  <tbody>\n",
       "    <tr>\n",
       "      <th>mean</th>\n",
       "      <td>0.354523</td>\n",
       "      <td>19.016261</td>\n",
       "    </tr>\n",
       "    <tr>\n",
       "      <th>50%</th>\n",
       "      <td>0.388969</td>\n",
       "      <td>19.533431</td>\n",
       "    </tr>\n",
       "    <tr>\n",
       "      <th>std</th>\n",
       "      <td>0.180549</td>\n",
       "      <td>2.600213</td>\n",
       "    </tr>\n",
       "  </tbody>\n",
       "</table>\n",
       "</div>"
      ],
      "text/plain": [
       "           R^2        MAE\n",
       "mean  0.354523  19.016261\n",
       "50%   0.388969  19.533431\n",
       "std   0.180549   2.600213"
      ]
     },
     "execution_count": 5,
     "metadata": {},
     "output_type": "execute_result"
    }
   ],
   "source": [
    "model = RandomForestRegressor()\n",
    "feature_set = [\"morgan\"]\n",
    "neval = ModelEvaluator(data_dir, name, feature_set, model)\n",
    "\n",
    "m = neval.evaluate_hold_out(n_repeats=30)\n",
    "m"
   ]
  },
  {
   "cell_type": "markdown",
   "id": "dfdc0bfa",
   "metadata": {},
   "source": [
    "## Gradient Boosting"
   ]
  },
  {
   "cell_type": "code",
   "execution_count": 6,
   "id": "8543e5e9",
   "metadata": {},
   "outputs": [
    {
     "name": "stdout",
     "output_type": "stream",
     "text": [
      "Masking 0 feature dims for ['morgan']\n",
      "[   1    7   13   22   23   25   27   30   33   35   42   51   54   57\n",
      "   58   62   64   67   68   69   76   78   79   80   87   91   92   94\n",
      "   97   99  101  102  112  113  114  116  122  126  136  140  142  144\n",
      "  145  147  149  159  160  173  175  180  181  183  187  189  190  191\n",
      "  197  204  207  214  216  217  221  222  227  230  233  235  237  242\n",
      "  243  248  249  251  256  259  265  271  273  277  283  289  294  296\n",
      "  298  300  301  302  310  311  321  322  337  345  352  362  365  366\n",
      "  371  375  377  379  387  389  392  394  401  412  414  415  419  422\n",
      "  430  441  442  444  445  457  458  463  465  475  480  482  488  495\n",
      "  497  498  503  513  518  529  531  533  534  541  550  551  553  556\n",
      "  561  562  573  591  592  597  598  604  606  610  624  631  632  635\n",
      "  636  641  647  649  650  666  667  672  674  685  689  694  695  698\n",
      "  699  703  707  713  714  715  718  722  728  732  733  738  740  741\n",
      "  744  745  753  754  755  769  772  775  776  778  780  781  783  784\n",
      "  790  793  794  796  798  802  811  814  816  824  828  829  831  832\n",
      "  833  835  837  838  841  843  845  846  847  852  854  857  870  873\n",
      "  875  880  883  888  890  895  900  902  906  915  918  920  923  926\n",
      "  929  932  933  939  940  942  944  955  958  960  962  963  969  971\n",
      "  972  973  974  975  976  978  979  981  986  990  997 1005 1013 1020\n",
      " 1025 1027 1028 1034 1035 1037 1039 1045 1054 1057 1064 1070 1073 1074\n",
      " 1087 1088 1089 1092 1093 1095 1099 1100 1108 1117 1128 1133 1136 1140\n",
      " 1142 1143 1145 1152 1156 1157 1158 1162 1164 1171 1177 1181 1185 1192\n",
      " 1194 1195 1199 1202 1204 1205 1212 1222 1224 1236 1238 1239 1240 1241\n",
      " 1243 1247 1253 1255 1256 1257 1264 1266 1267 1273 1274 1279 1280 1282\n",
      " 1284 1288 1292 1300 1305 1307 1309 1313 1319 1322 1327 1328 1331 1336\n",
      " 1339 1340 1341 1344 1345 1347 1349 1350 1355 1359 1361 1365 1366 1368\n",
      " 1371 1372 1385 1391 1395 1397 1398 1400 1402 1415 1417 1426 1427 1428\n",
      " 1430 1431 1440 1444 1445 1452 1458 1466 1480 1487 1488 1489 1502 1508\n",
      " 1513 1516 1523 1531 1534 1536 1539 1549 1554 1556 1558 1568 1570 1572\n",
      " 1575 1581 1587 1591 1594 1600 1603 1605 1606 1612 1624 1627 1628 1631\n",
      " 1641 1645 1647 1655 1656 1663 1664 1665 1667 1669 1670 1683 1691 1692\n",
      " 1695 1697 1701 1702 1705 1711 1715 1718 1722 1723 1724 1726 1729 1734\n",
      " 1736 1737 1738 1741 1743 1744 1746 1748 1750 1754 1756 1759 1764 1772\n",
      " 1782 1784 1785 1789 1793 1794 1796 1799 1800 1803 1804 1809 1814 1819\n",
      " 1823 1825 1831 1839 1840 1844 1847 1848 1849 1852 1853 1859 1863 1864\n",
      " 1875 1876 1880 1882 1891 1892 1899 1905 1907 1908 1911 1913 1916 1917\n",
      " 1920 1923 1926 1928 1936 1941 1945 1947 1952 1953 1956 1958 1960 1963\n",
      " 1968 1970 1972 1978 1980 1988 1989 1990 1991 1992 2006 2009 2011 2016\n",
      " 2017 2021 2025 2031 2044]\n",
      "-53.52112676056339\n"
     ]
    },
    {
     "data": {
      "text/html": [
       "<div>\n",
       "<style scoped>\n",
       "    .dataframe tbody tr th:only-of-type {\n",
       "        vertical-align: middle;\n",
       "    }\n",
       "\n",
       "    .dataframe tbody tr th {\n",
       "        vertical-align: top;\n",
       "    }\n",
       "\n",
       "    .dataframe thead th {\n",
       "        text-align: right;\n",
       "    }\n",
       "</style>\n",
       "<table border=\"1\" class=\"dataframe\">\n",
       "  <thead>\n",
       "    <tr style=\"text-align: right;\">\n",
       "      <th></th>\n",
       "      <th>R^2</th>\n",
       "      <th>MAE</th>\n",
       "    </tr>\n",
       "  </thead>\n",
       "  <tbody>\n",
       "    <tr>\n",
       "      <th>mean</th>\n",
       "      <td>0.303589</td>\n",
       "      <td>19.392425</td>\n",
       "    </tr>\n",
       "    <tr>\n",
       "      <th>50%</th>\n",
       "      <td>0.348454</td>\n",
       "      <td>19.733005</td>\n",
       "    </tr>\n",
       "    <tr>\n",
       "      <th>std</th>\n",
       "      <td>0.186677</td>\n",
       "      <td>2.617167</td>\n",
       "    </tr>\n",
       "  </tbody>\n",
       "</table>\n",
       "</div>"
      ],
      "text/plain": [
       "           R^2        MAE\n",
       "mean  0.303589  19.392425\n",
       "50%   0.348454  19.733005\n",
       "std   0.186677   2.617167"
      ]
     },
     "execution_count": 6,
     "metadata": {},
     "output_type": "execute_result"
    }
   ],
   "source": [
    "model = GradientBoostingRegressor()\n",
    "feature_set = [\"morgan\"]\n",
    "neval = ModelEvaluator(data_dir, name, feature_set, model)\n",
    "\n",
    "m = neval.evaluate_hold_out(n_repeats=30)\n",
    "m"
   ]
  },
  {
   "cell_type": "markdown",
   "id": "7b424fda",
   "metadata": {},
   "source": [
    "# Morgan + Mordred"
   ]
  },
  {
   "cell_type": "markdown",
   "id": "82242361",
   "metadata": {},
   "source": [
    "## Random Forest"
   ]
  },
  {
   "cell_type": "code",
   "execution_count": 7,
   "id": "7b0ba5c2",
   "metadata": {},
   "outputs": [
    {
     "name": "stdout",
     "output_type": "stream",
     "text": [
      "Masking 0 feature dims for ['morgan', 'mordred']\n",
      "[1 7 13 ... 'Zagreb2' 'mZagreb1' 'mZagreb2']\n",
      "-53.52112676056339\n"
     ]
    },
    {
     "data": {
      "text/html": [
       "<div>\n",
       "<style scoped>\n",
       "    .dataframe tbody tr th:only-of-type {\n",
       "        vertical-align: middle;\n",
       "    }\n",
       "\n",
       "    .dataframe tbody tr th {\n",
       "        vertical-align: top;\n",
       "    }\n",
       "\n",
       "    .dataframe thead th {\n",
       "        text-align: right;\n",
       "    }\n",
       "</style>\n",
       "<table border=\"1\" class=\"dataframe\">\n",
       "  <thead>\n",
       "    <tr style=\"text-align: right;\">\n",
       "      <th></th>\n",
       "      <th>R^2</th>\n",
       "      <th>MAE</th>\n",
       "    </tr>\n",
       "  </thead>\n",
       "  <tbody>\n",
       "    <tr>\n",
       "      <th>mean</th>\n",
       "      <td>0.473605</td>\n",
       "      <td>18.086734</td>\n",
       "    </tr>\n",
       "    <tr>\n",
       "      <th>50%</th>\n",
       "      <td>0.474418</td>\n",
       "      <td>18.476816</td>\n",
       "    </tr>\n",
       "    <tr>\n",
       "      <th>std</th>\n",
       "      <td>0.125518</td>\n",
       "      <td>1.927821</td>\n",
       "    </tr>\n",
       "  </tbody>\n",
       "</table>\n",
       "</div>"
      ],
      "text/plain": [
       "           R^2        MAE\n",
       "mean  0.473605  18.086734\n",
       "50%   0.474418  18.476816\n",
       "std   0.125518   1.927821"
      ]
     },
     "execution_count": 7,
     "metadata": {},
     "output_type": "execute_result"
    }
   ],
   "source": [
    "model = RandomForestRegressor()\n",
    "feature_set = [\"morgan\", \"mordred\"]\n",
    "neval = ModelEvaluator(data_dir, name, feature_set, model)\n",
    "\n",
    "m = neval.evaluate_hold_out(n_repeats=30)\n",
    "m"
   ]
  },
  {
   "cell_type": "markdown",
   "id": "01052aa5",
   "metadata": {},
   "source": [
    "## Gradient Boosting"
   ]
  },
  {
   "cell_type": "code",
   "execution_count": 8,
   "id": "7a3809e6",
   "metadata": {},
   "outputs": [
    {
     "name": "stdout",
     "output_type": "stream",
     "text": [
      "Masking 0 feature dims for ['morgan', 'mordred']\n",
      "[1 7 13 ... 'Zagreb2' 'mZagreb1' 'mZagreb2']\n",
      "-53.52112676056339\n"
     ]
    },
    {
     "data": {
      "text/html": [
       "<div>\n",
       "<style scoped>\n",
       "    .dataframe tbody tr th:only-of-type {\n",
       "        vertical-align: middle;\n",
       "    }\n",
       "\n",
       "    .dataframe tbody tr th {\n",
       "        vertical-align: top;\n",
       "    }\n",
       "\n",
       "    .dataframe thead th {\n",
       "        text-align: right;\n",
       "    }\n",
       "</style>\n",
       "<table border=\"1\" class=\"dataframe\">\n",
       "  <thead>\n",
       "    <tr style=\"text-align: right;\">\n",
       "      <th></th>\n",
       "      <th>R^2</th>\n",
       "      <th>MAE</th>\n",
       "    </tr>\n",
       "  </thead>\n",
       "  <tbody>\n",
       "    <tr>\n",
       "      <th>mean</th>\n",
       "      <td>0.387294</td>\n",
       "      <td>18.989251</td>\n",
       "    </tr>\n",
       "    <tr>\n",
       "      <th>50%</th>\n",
       "      <td>0.422602</td>\n",
       "      <td>18.575732</td>\n",
       "    </tr>\n",
       "    <tr>\n",
       "      <th>std</th>\n",
       "      <td>0.161598</td>\n",
       "      <td>2.221939</td>\n",
       "    </tr>\n",
       "  </tbody>\n",
       "</table>\n",
       "</div>"
      ],
      "text/plain": [
       "           R^2        MAE\n",
       "mean  0.387294  18.989251\n",
       "50%   0.422602  18.575732\n",
       "std   0.161598   2.221939"
      ]
     },
     "execution_count": 8,
     "metadata": {},
     "output_type": "execute_result"
    }
   ],
   "source": [
    "model = GradientBoostingRegressor()\n",
    "feature_set = [\"morgan\", \"mordred\"]\n",
    "neval = ModelEvaluator(data_dir, name, feature_set, model)\n",
    "\n",
    "m = neval.evaluate_hold_out(n_repeats=30)\n",
    "m"
   ]
  },
  {
   "cell_type": "code",
   "execution_count": null,
   "id": "3f434cf9",
   "metadata": {},
   "outputs": [],
   "source": []
  }
 ],
 "metadata": {
  "kernelspec": {
   "display_name": "Python 3",
   "language": "python",
   "name": "python3"
  },
  "language_info": {
   "codemirror_mode": {
    "name": "ipython",
    "version": 3
   },
   "file_extension": ".py",
   "mimetype": "text/x-python",
   "name": "python",
   "nbconvert_exporter": "python",
   "pygments_lexer": "ipython3",
   "version": "3.8.16"
  }
 },
 "nbformat": 4,
 "nbformat_minor": 5
}
