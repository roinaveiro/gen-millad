{
 "cells": [
  {
   "cell_type": "code",
   "execution_count": 1,
   "id": "78bd1c03",
   "metadata": {},
   "outputs": [],
   "source": [
    "import numpy as np\n",
    "import pandas as pd\n",
    "\n",
    "import seaborn as sns\n",
    "\n",
    "from config import *\n",
    "from src.prob_model_evaluator import ModelEvaluator\n",
    "from src.models.ngb import NGB\n",
    "from src.models.gpr import GPr\n",
    "\n",
    "import seaborn as sns\n",
    "import matplotlib.pyplot as plt\n",
    "sns.set(rc={'figure.figsize':(8.7,5.27)})\n",
    "sns.set(style=\"whitegrid\", font_scale=1.5)\n",
    "plt.rcParams['lines.markersize'] = 7"
   ]
  },
  {
   "cell_type": "markdown",
   "id": "613d8a80",
   "metadata": {},
   "source": [
    "# Mordred\n",
    "\n",
    "## NGBoost"
   ]
  },
  {
   "cell_type": "code",
   "execution_count": 3,
   "id": "8dbd32ff",
   "metadata": {},
   "outputs": [
    {
     "name": "stdout",
     "output_type": "stream",
     "text": [
      "Masking 0 feature dims for ['mordred']\n",
      "[iter 0] loss=1.3718 val_loss=1.8567 scale=1.0000 norm=0.9626\n",
      "[iter 100] loss=0.9019 val_loss=1.5470 scale=2.0000 norm=1.2357\n",
      "[iter 200] loss=0.3950 val_loss=1.8486 scale=2.0000 norm=0.9868\n",
      "== Early stopping achieved.\n",
      "== Best iteration / VAL111 (val_loss=1.5417)\n",
      "[iter 0] loss=1.4401 val_loss=1.2895 scale=1.0000 norm=1.0189\n",
      "[iter 100] loss=1.0356 val_loss=1.2174 scale=2.0000 norm=1.3546\n",
      "== Early stopping achieved.\n",
      "== Best iteration / VAL98 (val_loss=1.2159)\n",
      "[iter 0] loss=1.3541 val_loss=2.0522 scale=1.0000 norm=0.9483\n",
      "[iter 100] loss=0.8718 val_loss=1.4771 scale=2.0000 norm=1.2066\n",
      "[iter 200] loss=0.3638 val_loss=1.4034 scale=2.0000 norm=0.9825\n",
      "== Early stopping achieved.\n",
      "== Best iteration / VAL175 (val_loss=1.3773)\n",
      "[iter 0] loss=1.4333 val_loss=1.3048 scale=1.0000 norm=1.0125\n",
      "[iter 100] loss=1.0061 val_loss=1.1706 scale=2.0000 norm=1.3258\n",
      "[iter 200] loss=0.5029 val_loss=1.0331 scale=2.0000 norm=1.0084\n",
      "[iter 300] loss=0.0075 val_loss=1.3824 scale=2.0000 norm=0.9718\n",
      "== Early stopping achieved.\n",
      "== Best iteration / VAL211 (val_loss=1.0278)\n",
      "[iter 0] loss=1.4228 val_loss=1.3874 scale=1.0000 norm=1.0033\n",
      "[iter 100] loss=0.9172 val_loss=1.3203 scale=2.0000 norm=1.2325\n",
      "== Early stopping achieved.\n",
      "== Best iteration / VAL90 (val_loss=1.3152)\n",
      "[iter 0] loss=1.4406 val_loss=1.2614 scale=1.0000 norm=1.0195\n",
      "[iter 100] loss=1.0578 val_loss=1.0811 scale=1.0000 norm=0.6930\n",
      "[iter 200] loss=0.5894 val_loss=0.9136 scale=2.0000 norm=1.0284\n",
      "== Early stopping achieved.\n",
      "== Best iteration / VAL195 (val_loss=0.9118)\n",
      "[iter 0] loss=1.4218 val_loss=1.3955 scale=1.0000 norm=1.0025\n",
      "[iter 100] loss=1.0347 val_loss=1.2436 scale=2.0000 norm=1.3674\n",
      "[iter 200] loss=0.5979 val_loss=1.1363 scale=2.0000 norm=1.0315\n",
      "[iter 300] loss=0.1071 val_loss=1.4673 scale=2.0000 norm=0.9648\n",
      "== Early stopping achieved.\n",
      "== Best iteration / VAL203 (val_loss=1.1328)\n",
      "[iter 0] loss=1.4155 val_loss=1.4440 scale=1.0000 norm=0.9970\n",
      "[iter 100] loss=0.8207 val_loss=1.1049 scale=2.0000 norm=1.1461\n",
      "[iter 200] loss=0.3136 val_loss=1.0653 scale=2.0000 norm=0.9805\n",
      "== Early stopping achieved.\n",
      "== Best iteration / VAL172 (val_loss=1.0260)\n",
      "[iter 0] loss=1.3899 val_loss=1.6680 scale=1.0000 norm=0.9769\n",
      "[iter 100] loss=0.7504 val_loss=0.9825 scale=2.0000 norm=1.1080\n",
      "[iter 200] loss=0.2530 val_loss=0.6732 scale=2.0000 norm=0.9694\n",
      "[iter 300] loss=-0.2372 val_loss=0.6364 scale=2.0000 norm=0.9663\n",
      "== Early stopping achieved.\n",
      "== Best iteration / VAL261 (val_loss=0.6035)\n",
      "[iter 0] loss=1.4156 val_loss=1.4551 scale=1.0000 norm=0.9971\n",
      "[iter 100] loss=1.0261 val_loss=1.3919 scale=1.0000 norm=0.6779\n",
      "== Early stopping achieved.\n",
      "== Best iteration / VAL75 (val_loss=1.3836)\n"
     ]
    }
   ],
   "source": [
    "model = NGB()\n",
    "feature_set = [\"mordred\"]\n",
    "neval = ModelEvaluator(data_dir, name, feature_set, model, scaler_x=None, scaler_y=None)\n",
    "\n",
    "m, a, b = neval.evaluate_hold_out(n_repeats=10)\n"
   ]
  },
  {
   "cell_type": "code",
   "execution_count": 4,
   "id": "0819d486",
   "metadata": {},
   "outputs": [
    {
     "data": {
      "text/html": [
       "<div>\n",
       "<style scoped>\n",
       "    .dataframe tbody tr th:only-of-type {\n",
       "        vertical-align: middle;\n",
       "    }\n",
       "\n",
       "    .dataframe tbody tr th {\n",
       "        vertical-align: top;\n",
       "    }\n",
       "\n",
       "    .dataframe thead th {\n",
       "        text-align: right;\n",
       "    }\n",
       "</style>\n",
       "<table border=\"1\" class=\"dataframe\">\n",
       "  <thead>\n",
       "    <tr style=\"text-align: right;\">\n",
       "      <th></th>\n",
       "      <th>R^2</th>\n",
       "      <th>MAE</th>\n",
       "      <th>MMC</th>\n",
       "      <th>AMC</th>\n",
       "    </tr>\n",
       "  </thead>\n",
       "  <tbody>\n",
       "    <tr>\n",
       "      <th>mean</th>\n",
       "      <td>0.430688</td>\n",
       "      <td>0.563562</td>\n",
       "      <td>0.238647</td>\n",
       "      <td>0.129706</td>\n",
       "    </tr>\n",
       "    <tr>\n",
       "      <th>50%</th>\n",
       "      <td>0.467636</td>\n",
       "      <td>0.588775</td>\n",
       "      <td>0.185990</td>\n",
       "      <td>0.096216</td>\n",
       "    </tr>\n",
       "    <tr>\n",
       "      <th>std</th>\n",
       "      <td>0.260749</td>\n",
       "      <td>0.124636</td>\n",
       "      <td>0.133630</td>\n",
       "      <td>0.089584</td>\n",
       "    </tr>\n",
       "  </tbody>\n",
       "</table>\n",
       "</div>"
      ],
      "text/plain": [
       "           R^2       MAE       MMC       AMC\n",
       "mean  0.430688  0.563562  0.238647  0.129706\n",
       "50%   0.467636  0.588775  0.185990  0.096216\n",
       "std   0.260749  0.124636  0.133630  0.089584"
      ]
     },
     "execution_count": 4,
     "metadata": {},
     "output_type": "execute_result"
    }
   ],
   "source": [
    "m"
   ]
  },
  {
   "cell_type": "code",
   "execution_count": 5,
   "id": "05e0e7e8",
   "metadata": {},
   "outputs": [
    {
     "data": {
      "text/plain": [
       "<matplotlib.lines._AxLine at 0x293fc4280>"
      ]
     },
     "execution_count": 5,
     "metadata": {},
     "output_type": "execute_result"
    },
    {
     "data": {
      "image/png": "[encoded data removed]",
      "text/plain": [
       "<Figure size 432x288 with 1 Axes>"
      ]
     },
     "metadata": {
      "needs_background": "light"
     },
     "output_type": "display_data"
    }
   ],
   "source": [
    "fig = plt.figure()\n",
    "ax = fig.add_axes([0.1,0.1,0.75,0.75]) # axis starts at 0.1, 0.1\n",
    "ax.set_xlabel(\"Theoretical Quantiles\")\n",
    "ax.set_ylabel(\"Empirical Quantiles\")\n",
    "ax.errorbar(x = a.loc[\"mean\"].squeeze(), \n",
    "             y = b.loc[\"mean\"].squeeze(), yerr= b.loc[\"std\"].squeeze())\n",
    "ax.axline([0, 0], [1,1], c='gray')"
   ]
  },
  {
   "cell_type": "markdown",
   "id": "2f623beb",
   "metadata": {},
   "source": [
    "## Gaussian Process Regression"
   ]
  },
  {
   "cell_type": "code",
   "execution_count": 2,
   "id": "941b6c9d",
   "metadata": {},
   "outputs": [
    {
     "name": "stdout",
     "output_type": "stream",
     "text": [
      "Masking 0 feature dims for ['mordred']\n"
     ]
    },
    {
     "ename": "ValueError",
     "evalue": "Input contains NaN.",
     "output_type": "error",
     "traceback": [
      "\u001b[0;31m---------------------------------------------------------------------------\u001b[0m",
      "\u001b[0;31mValueError\u001b[0m                                Traceback (most recent call last)",
      "Cell \u001b[0;32mIn[2], line 5\u001b[0m\n\u001b[1;32m      2\u001b[0m feature_set \u001b[38;5;241m=\u001b[39m [\u001b[38;5;124m\"\u001b[39m\u001b[38;5;124mmordred\u001b[39m\u001b[38;5;124m\"\u001b[39m]\n\u001b[1;32m      3\u001b[0m neval \u001b[38;5;241m=\u001b[39m ModelEvaluator(data_dir, name, feature_set, model, scaler_x\u001b[38;5;241m=\u001b[39m\u001b[38;5;124m\"\u001b[39m\u001b[38;5;124mquantile\u001b[39m\u001b[38;5;124m\"\u001b[39m, scaler_y\u001b[38;5;241m=\u001b[39m\u001b[38;5;124m\"\u001b[39m\u001b[38;5;124mstandard\u001b[39m\u001b[38;5;124m\"\u001b[39m)\n\u001b[0;32m----> 5\u001b[0m m, a, b \u001b[38;5;241m=\u001b[39m \u001b[43mneval\u001b[49m\u001b[38;5;241;43m.\u001b[39;49m\u001b[43mevaluate_hold_out\u001b[49m\u001b[43m(\u001b[49m\u001b[43mn_repeats\u001b[49m\u001b[38;5;241;43m=\u001b[39;49m\u001b[38;5;241;43m10\u001b[39;49m\u001b[43m)\u001b[49m\n",
      "File \u001b[0;32m~/Library/CloudStorage/OneDrive-CUNEF/aitenea/conf_greece/src/prob_model_evaluator.py:111\u001b[0m, in \u001b[0;36mModelEvaluator.evaluate_hold_out\u001b[0;34m(self, n_repeats)\u001b[0m\n\u001b[1;32m    107\u001b[0m \u001b[38;5;28mself\u001b[39m\u001b[38;5;241m.\u001b[39mmodel\u001b[38;5;241m.\u001b[39mfit(X_train_scaled, y_train_scaled\u001b[38;5;241m.\u001b[39msqueeze())\n\u001b[1;32m    108\u001b[0m y_pred, y_err \u001b[38;5;241m=\u001b[39m \u001b[38;5;28mself\u001b[39m\u001b[38;5;241m.\u001b[39mmodel\u001b[38;5;241m.\u001b[39mpredict(X_test_scaled)\n\u001b[0;32m--> 111\u001b[0m p_metric\u001b[38;5;241m.\u001b[39mappend(\u001b[43mmetrics\u001b[49m\u001b[38;5;241;43m.\u001b[39;49m\u001b[43minference_evaluate\u001b[49m\u001b[43m(\u001b[49m\u001b[43my_test_scaled\u001b[49m\u001b[38;5;241;43m.\u001b[39;49m\u001b[43msqueeze\u001b[49m\u001b[43m(\u001b[49m\u001b[43m)\u001b[49m\u001b[43m,\u001b[49m\u001b[43m \u001b[49m\u001b[43my_pred\u001b[49m\u001b[43m)\u001b[49m)\n\u001b[1;32m    113\u001b[0m cm, qs_i, Cqs_i \u001b[38;5;241m=\u001b[39m metrics\u001b[38;5;241m.\u001b[39mcalibration_evaluate(y_test_scaled\u001b[38;5;241m.\u001b[39msqueeze(), y_pred, y_err)\n\u001b[1;32m    114\u001b[0m c_metric\u001b[38;5;241m.\u001b[39mappend(cm)\n",
      "File \u001b[0;32m~/Library/CloudStorage/OneDrive-CUNEF/aitenea/conf_greece/src/utils/metrics.py:23\u001b[0m, in \u001b[0;36minference_evaluate\u001b[0;34m(y_true, y_pred)\u001b[0m\n\u001b[1;32m     16\u001b[0m metrics \u001b[38;5;241m=\u001b[39m {\n\u001b[1;32m     17\u001b[0m     \u001b[38;5;124m'\u001b[39m\u001b[38;5;124mR^2\u001b[39m\u001b[38;5;124m'\u001b[39m: sklearn\u001b[38;5;241m.\u001b[39mmetrics\u001b[38;5;241m.\u001b[39mr2_score,\n\u001b[1;32m     18\u001b[0m     \u001b[38;5;124m'\u001b[39m\u001b[38;5;124mMAE\u001b[39m\u001b[38;5;124m'\u001b[39m: sklearn\u001b[38;5;241m.\u001b[39mmetrics\u001b[38;5;241m.\u001b[39mmean_absolute_error\n\u001b[1;32m     19\u001b[0m     \u001b[38;5;66;03m# 'kendall': lambda x, y: scipy.stats.kendalltau(x, y)[0]\u001b[39;00m\n\u001b[1;32m     20\u001b[0m }\n\u001b[1;32m     22\u001b[0m \u001b[38;5;28;01mfor\u001b[39;00m key, metric_fn \u001b[38;5;129;01min\u001b[39;00m metrics\u001b[38;5;241m.\u001b[39mitems():\n\u001b[0;32m---> 23\u001b[0m     stats[\u001b[38;5;124mf\u001b[39m\u001b[38;5;124m'\u001b[39m\u001b[38;5;132;01m{\u001b[39;00mkey\u001b[38;5;132;01m}\u001b[39;00m\u001b[38;5;124m'\u001b[39m] \u001b[38;5;241m=\u001b[39m \u001b[43mmetric_fn\u001b[49m\u001b[43m(\u001b[49m\u001b[43my_true\u001b[49m\u001b[43m,\u001b[49m\u001b[43m \u001b[49m\u001b[43my_pred\u001b[49m\u001b[43m)\u001b[49m\n\u001b[1;32m     25\u001b[0m \u001b[38;5;28;01mreturn\u001b[39;00m stats\n",
      "File \u001b[0;32m~/miniconda3/envs/gen_millad/lib/python3.8/site-packages/sklearn/metrics/_regression.py:911\u001b[0m, in \u001b[0;36mr2_score\u001b[0;34m(y_true, y_pred, sample_weight, multioutput, force_finite)\u001b[0m\n\u001b[1;32m    784\u001b[0m \u001b[38;5;28;01mdef\u001b[39;00m \u001b[38;5;21mr2_score\u001b[39m(\n\u001b[1;32m    785\u001b[0m     y_true,\n\u001b[1;32m    786\u001b[0m     y_pred,\n\u001b[0;32m   (...)\u001b[0m\n\u001b[1;32m    790\u001b[0m     force_finite\u001b[38;5;241m=\u001b[39m\u001b[38;5;28;01mTrue\u001b[39;00m,\n\u001b[1;32m    791\u001b[0m ):\n\u001b[1;32m    792\u001b[0m \u001b[38;5;250m    \u001b[39m\u001b[38;5;124;03m\"\"\":math:`R^2` (coefficient of determination) regression score function.\u001b[39;00m\n\u001b[1;32m    793\u001b[0m \n\u001b[1;32m    794\u001b[0m \u001b[38;5;124;03m    Best possible score is 1.0 and it can be negative (because the\u001b[39;00m\n\u001b[0;32m   (...)\u001b[0m\n\u001b[1;32m    909\u001b[0m \u001b[38;5;124;03m    -inf\u001b[39;00m\n\u001b[1;32m    910\u001b[0m \u001b[38;5;124;03m    \"\"\"\u001b[39;00m\n\u001b[0;32m--> 911\u001b[0m     y_type, y_true, y_pred, multioutput \u001b[38;5;241m=\u001b[39m \u001b[43m_check_reg_targets\u001b[49m\u001b[43m(\u001b[49m\n\u001b[1;32m    912\u001b[0m \u001b[43m        \u001b[49m\u001b[43my_true\u001b[49m\u001b[43m,\u001b[49m\u001b[43m \u001b[49m\u001b[43my_pred\u001b[49m\u001b[43m,\u001b[49m\u001b[43m \u001b[49m\u001b[43mmultioutput\u001b[49m\n\u001b[1;32m    913\u001b[0m \u001b[43m    \u001b[49m\u001b[43m)\u001b[49m\n\u001b[1;32m    914\u001b[0m     check_consistent_length(y_true, y_pred, sample_weight)\n\u001b[1;32m    916\u001b[0m     \u001b[38;5;28;01mif\u001b[39;00m _num_samples(y_pred) \u001b[38;5;241m<\u001b[39m \u001b[38;5;241m2\u001b[39m:\n",
      "File \u001b[0;32m~/miniconda3/envs/gen_millad/lib/python3.8/site-packages/sklearn/metrics/_regression.py:102\u001b[0m, in \u001b[0;36m_check_reg_targets\u001b[0;34m(y_true, y_pred, multioutput, dtype)\u001b[0m\n\u001b[1;32m    100\u001b[0m check_consistent_length(y_true, y_pred)\n\u001b[1;32m    101\u001b[0m y_true \u001b[38;5;241m=\u001b[39m check_array(y_true, ensure_2d\u001b[38;5;241m=\u001b[39m\u001b[38;5;28;01mFalse\u001b[39;00m, dtype\u001b[38;5;241m=\u001b[39mdtype)\n\u001b[0;32m--> 102\u001b[0m y_pred \u001b[38;5;241m=\u001b[39m \u001b[43mcheck_array\u001b[49m\u001b[43m(\u001b[49m\u001b[43my_pred\u001b[49m\u001b[43m,\u001b[49m\u001b[43m \u001b[49m\u001b[43mensure_2d\u001b[49m\u001b[38;5;241;43m=\u001b[39;49m\u001b[38;5;28;43;01mFalse\u001b[39;49;00m\u001b[43m,\u001b[49m\u001b[43m \u001b[49m\u001b[43mdtype\u001b[49m\u001b[38;5;241;43m=\u001b[39;49m\u001b[43mdtype\u001b[49m\u001b[43m)\u001b[49m\n\u001b[1;32m    104\u001b[0m \u001b[38;5;28;01mif\u001b[39;00m y_true\u001b[38;5;241m.\u001b[39mndim \u001b[38;5;241m==\u001b[39m \u001b[38;5;241m1\u001b[39m:\n\u001b[1;32m    105\u001b[0m     y_true \u001b[38;5;241m=\u001b[39m y_true\u001b[38;5;241m.\u001b[39mreshape((\u001b[38;5;241m-\u001b[39m\u001b[38;5;241m1\u001b[39m, \u001b[38;5;241m1\u001b[39m))\n",
      "File \u001b[0;32m~/miniconda3/envs/gen_millad/lib/python3.8/site-packages/sklearn/utils/validation.py:921\u001b[0m, in \u001b[0;36mcheck_array\u001b[0;34m(array, accept_sparse, accept_large_sparse, dtype, order, copy, force_all_finite, ensure_2d, allow_nd, ensure_min_samples, ensure_min_features, estimator, input_name)\u001b[0m\n\u001b[1;32m    915\u001b[0m         \u001b[38;5;28;01mraise\u001b[39;00m \u001b[38;5;167;01mValueError\u001b[39;00m(\n\u001b[1;32m    916\u001b[0m             \u001b[38;5;124m\"\u001b[39m\u001b[38;5;124mFound array with dim \u001b[39m\u001b[38;5;132;01m%d\u001b[39;00m\u001b[38;5;124m. \u001b[39m\u001b[38;5;132;01m%s\u001b[39;00m\u001b[38;5;124m expected <= 2.\u001b[39m\u001b[38;5;124m\"\u001b[39m\n\u001b[1;32m    917\u001b[0m             \u001b[38;5;241m%\u001b[39m (array\u001b[38;5;241m.\u001b[39mndim, estimator_name)\n\u001b[1;32m    918\u001b[0m         )\n\u001b[1;32m    920\u001b[0m     \u001b[38;5;28;01mif\u001b[39;00m force_all_finite:\n\u001b[0;32m--> 921\u001b[0m         \u001b[43m_assert_all_finite\u001b[49m\u001b[43m(\u001b[49m\n\u001b[1;32m    922\u001b[0m \u001b[43m            \u001b[49m\u001b[43marray\u001b[49m\u001b[43m,\u001b[49m\n\u001b[1;32m    923\u001b[0m \u001b[43m            \u001b[49m\u001b[43minput_name\u001b[49m\u001b[38;5;241;43m=\u001b[39;49m\u001b[43minput_name\u001b[49m\u001b[43m,\u001b[49m\n\u001b[1;32m    924\u001b[0m \u001b[43m            \u001b[49m\u001b[43mestimator_name\u001b[49m\u001b[38;5;241;43m=\u001b[39;49m\u001b[43mestimator_name\u001b[49m\u001b[43m,\u001b[49m\n\u001b[1;32m    925\u001b[0m \u001b[43m            \u001b[49m\u001b[43mallow_nan\u001b[49m\u001b[38;5;241;43m=\u001b[39;49m\u001b[43mforce_all_finite\u001b[49m\u001b[43m \u001b[49m\u001b[38;5;241;43m==\u001b[39;49m\u001b[43m \u001b[49m\u001b[38;5;124;43m\"\u001b[39;49m\u001b[38;5;124;43mallow-nan\u001b[39;49m\u001b[38;5;124;43m\"\u001b[39;49m\u001b[43m,\u001b[49m\n\u001b[1;32m    926\u001b[0m \u001b[43m        \u001b[49m\u001b[43m)\u001b[49m\n\u001b[1;32m    928\u001b[0m \u001b[38;5;28;01mif\u001b[39;00m ensure_min_samples \u001b[38;5;241m>\u001b[39m \u001b[38;5;241m0\u001b[39m:\n\u001b[1;32m    929\u001b[0m     n_samples \u001b[38;5;241m=\u001b[39m _num_samples(array)\n",
      "File \u001b[0;32m~/miniconda3/envs/gen_millad/lib/python3.8/site-packages/sklearn/utils/validation.py:161\u001b[0m, in \u001b[0;36m_assert_all_finite\u001b[0;34m(X, allow_nan, msg_dtype, estimator_name, input_name)\u001b[0m\n\u001b[1;32m    144\u001b[0m \u001b[38;5;28;01mif\u001b[39;00m estimator_name \u001b[38;5;129;01mand\u001b[39;00m input_name \u001b[38;5;241m==\u001b[39m \u001b[38;5;124m\"\u001b[39m\u001b[38;5;124mX\u001b[39m\u001b[38;5;124m\"\u001b[39m \u001b[38;5;129;01mand\u001b[39;00m has_nan_error:\n\u001b[1;32m    145\u001b[0m     \u001b[38;5;66;03m# Improve the error message on how to handle missing values in\u001b[39;00m\n\u001b[1;32m    146\u001b[0m     \u001b[38;5;66;03m# scikit-learn.\u001b[39;00m\n\u001b[1;32m    147\u001b[0m     msg_err \u001b[38;5;241m+\u001b[39m\u001b[38;5;241m=\u001b[39m (\n\u001b[1;32m    148\u001b[0m         \u001b[38;5;124mf\u001b[39m\u001b[38;5;124m\"\u001b[39m\u001b[38;5;130;01m\\n\u001b[39;00m\u001b[38;5;132;01m{\u001b[39;00mestimator_name\u001b[38;5;132;01m}\u001b[39;00m\u001b[38;5;124m does not accept missing values\u001b[39m\u001b[38;5;124m\"\u001b[39m\n\u001b[1;32m    149\u001b[0m         \u001b[38;5;124m\"\u001b[39m\u001b[38;5;124m encoded as NaN natively. For supervised learning, you might want\u001b[39m\u001b[38;5;124m\"\u001b[39m\n\u001b[0;32m   (...)\u001b[0m\n\u001b[1;32m    159\u001b[0m         \u001b[38;5;124m\"\u001b[39m\u001b[38;5;124m#estimators-that-handle-nan-values\u001b[39m\u001b[38;5;124m\"\u001b[39m\n\u001b[1;32m    160\u001b[0m     )\n\u001b[0;32m--> 161\u001b[0m \u001b[38;5;28;01mraise\u001b[39;00m \u001b[38;5;167;01mValueError\u001b[39;00m(msg_err)\n",
      "\u001b[0;31mValueError\u001b[0m: Input contains NaN."
     ]
    }
   ],
   "source": [
    "model = GPr(kernel='rbf')\n",
    "feature_set = [\"mordred\"]\n",
    "neval = ModelEvaluator(data_dir, name, feature_set, model, scaler_x=\"quantile\", scaler_y=\"standard\")\n",
    "\n",
    "m, a, b = neval.evaluate_hold_out(n_repeats=10)"
   ]
  },
  {
   "cell_type": "code",
   "execution_count": 7,
   "id": "573ad412",
   "metadata": {},
   "outputs": [
    {
     "data": {
      "text/html": [
       "<div>\n",
       "<style scoped>\n",
       "    .dataframe tbody tr th:only-of-type {\n",
       "        vertical-align: middle;\n",
       "    }\n",
       "\n",
       "    .dataframe tbody tr th {\n",
       "        vertical-align: top;\n",
       "    }\n",
       "\n",
       "    .dataframe thead th {\n",
       "        text-align: right;\n",
       "    }\n",
       "</style>\n",
       "<table border=\"1\" class=\"dataframe\">\n",
       "  <thead>\n",
       "    <tr style=\"text-align: right;\">\n",
       "      <th></th>\n",
       "      <th>R^2</th>\n",
       "      <th>MAE</th>\n",
       "      <th>MMC</th>\n",
       "      <th>AMC</th>\n",
       "    </tr>\n",
       "  </thead>\n",
       "  <tbody>\n",
       "    <tr>\n",
       "      <th>mean</th>\n",
       "      <td>-0.032418</td>\n",
       "      <td>0.917391</td>\n",
       "      <td>8.888889e-01</td>\n",
       "      <td>0.453704</td>\n",
       "    </tr>\n",
       "    <tr>\n",
       "      <th>50%</th>\n",
       "      <td>-0.020070</td>\n",
       "      <td>0.938375</td>\n",
       "      <td>8.888889e-01</td>\n",
       "      <td>0.453704</td>\n",
       "    </tr>\n",
       "    <tr>\n",
       "      <th>std</th>\n",
       "      <td>0.039444</td>\n",
       "      <td>0.080920</td>\n",
       "      <td>2.340556e-16</td>\n",
       "      <td>0.000000</td>\n",
       "    </tr>\n",
       "  </tbody>\n",
       "</table>\n",
       "</div>"
      ],
      "text/plain": [
       "           R^2       MAE           MMC       AMC\n",
       "mean -0.032418  0.917391  8.888889e-01  0.453704\n",
       "50%  -0.020070  0.938375  8.888889e-01  0.453704\n",
       "std   0.039444  0.080920  2.340556e-16  0.000000"
      ]
     },
     "execution_count": 7,
     "metadata": {},
     "output_type": "execute_result"
    }
   ],
   "source": [
    "m"
   ]
  },
  {
   "cell_type": "code",
   "execution_count": 8,
   "id": "e9330db8",
   "metadata": {},
   "outputs": [
    {
     "data": {
      "text/plain": [
       "<matplotlib.lines._AxLine at 0x296c50370>"
      ]
     },
     "execution_count": 8,
     "metadata": {},
     "output_type": "execute_result"
    },
    {
     "data": {
      "image/png": "[encoded data removed]",
      "text/plain": [
       "<Figure size 432x288 with 1 Axes>"
      ]
     },
     "metadata": {
      "needs_background": "light"
     },
     "output_type": "display_data"
    }
   ],
   "source": [
    "fig = plt.figure()\n",
    "ax = fig.add_axes([0.1,0.1,0.75,0.75]) # axis starts at 0.1, 0.1\n",
    "ax.set_xlabel(\"Theoretical Quantiles\")\n",
    "ax.set_ylabel(\"Empirical Quantiles\")\n",
    "ax.errorbar(x = a.loc[\"mean\"].squeeze(), \n",
    "             y = b.loc[\"mean\"].squeeze(), yerr= b.loc[\"std\"].squeeze())\n",
    "ax.axline([0, 0], [1,1], c='gray')"
   ]
  },
  {
   "cell_type": "markdown",
   "id": "8e040c9d",
   "metadata": {},
   "source": [
    "# Morgan\n",
    "\n",
    "## NGB"
   ]
  },
  {
   "cell_type": "code",
   "execution_count": 9,
   "id": "1d7a5fdb",
   "metadata": {},
   "outputs": [
    {
     "name": "stdout",
     "output_type": "stream",
     "text": [
      "Masking 0 feature dims for ['morgan']\n",
      "[iter 0] loss=4.7651 val_loss=5.2526 scale=1.0000 norm=25.0830\n",
      "[iter 100] loss=4.4396 val_loss=5.0319 scale=1.0000 norm=17.8503\n",
      "[iter 200] loss=4.1806 val_loss=5.0619 scale=1.0000 norm=12.3923\n",
      "== Early stopping achieved.\n",
      "== Best iteration / VAL132 (val_loss=5.0172)\n",
      "[iter 0] loss=4.8676 val_loss=4.7189 scale=1.0000 norm=29.2918\n",
      "[iter 100] loss=4.5197 val_loss=4.7626 scale=1.0000 norm=18.8034\n",
      "== Early stopping achieved.\n",
      "== Best iteration / VAL8 (val_loss=4.7173)\n",
      "[iter 0] loss=4.7498 val_loss=5.4531 scale=1.0000 norm=25.0389\n",
      "[iter 100] loss=4.3775 val_loss=5.0193 scale=2.0000 norm=32.5419\n",
      "[iter 200] loss=4.0070 val_loss=4.8808 scale=2.0000 norm=19.1444\n",
      "[iter 300] loss=3.6307 val_loss=5.1985 scale=2.0000 norm=12.7191\n",
      "== Early stopping achieved.\n",
      "== Best iteration / VAL201 (val_loss=4.8799)\n",
      "[iter 0] loss=4.7951 val_loss=4.6651 scale=1.0000 norm=26.7381\n",
      "[iter 100] loss=4.4832 val_loss=4.4843 scale=1.0000 norm=18.5630\n",
      "[iter 200] loss=4.1803 val_loss=4.2983 scale=2.0000 norm=23.7449\n",
      "[iter 300] loss=3.7941 val_loss=4.2357 scale=2.0000 norm=14.9817\n",
      "== Early stopping achieved.\n",
      "== Best iteration / VAL265 (val_loss=4.2165)\n",
      "[iter 0] loss=4.8490 val_loss=4.8117 scale=1.0000 norm=28.3466\n",
      "[iter 100] loss=4.4545 val_loss=4.5018 scale=1.0000 norm=17.5161\n",
      "[iter 200] loss=4.0647 val_loss=4.2172 scale=2.0000 norm=19.9069\n",
      "[iter 300] loss=3.6962 val_loss=4.1160 scale=2.0000 norm=13.4926\n",
      "== Early stopping achieved.\n",
      "== Best iteration / VAL286 (val_loss=4.1138)\n",
      "[iter 0] loss=4.8321 val_loss=4.6545 scale=1.0000 norm=28.3998\n",
      "[iter 100] loss=4.5243 val_loss=4.5040 scale=1.0000 norm=19.4119\n",
      "[iter 200] loss=4.2412 val_loss=4.3851 scale=2.0000 norm=25.3579\n",
      "[iter 300] loss=3.8649 val_loss=4.3519 scale=2.0000 norm=16.4046\n",
      "== Early stopping achieved.\n",
      "== Best iteration / VAL278 (val_loss=4.3278)\n",
      "[iter 0] loss=4.8623 val_loss=4.8384 scale=1.0000 norm=28.8252\n",
      "[iter 100] loss=4.5511 val_loss=4.6846 scale=1.0000 norm=20.1116\n",
      "[iter 200] loss=4.2168 val_loss=4.7237 scale=2.0000 norm=25.3839\n",
      "== Early stopping achieved.\n",
      "== Best iteration / VAL112 (val_loss=4.6743)\n",
      "[iter 0] loss=4.8684 val_loss=4.8976 scale=1.0000 norm=28.7985\n",
      "[iter 100] loss=4.4920 val_loss=4.6572 scale=1.0000 norm=18.1333\n",
      "[iter 200] loss=4.0414 val_loss=4.5604 scale=2.0000 norm=17.0440\n",
      "== Early stopping achieved.\n",
      "== Best iteration / VAL163 (val_loss=4.5304)\n",
      "[iter 0] loss=4.7879 val_loss=5.0677 scale=1.0000 norm=25.7802\n",
      "[iter 100] loss=4.4073 val_loss=4.7014 scale=2.0000 norm=33.5053\n",
      "[iter 200] loss=4.0825 val_loss=4.5963 scale=2.0000 norm=20.0142\n",
      "[iter 300] loss=3.6519 val_loss=4.8048 scale=2.0000 norm=11.1358\n",
      "== Early stopping achieved.\n",
      "== Best iteration / VAL220 (val_loss=4.5922)\n",
      "[iter 0] loss=4.8254 val_loss=4.8641 scale=1.0000 norm=27.6646\n",
      "[iter 100] loss=4.5153 val_loss=4.6516 scale=1.0000 norm=19.3966\n",
      "[iter 200] loss=4.1980 val_loss=4.5625 scale=2.0000 norm=24.6287\n",
      "[iter 300] loss=3.8269 val_loss=4.6630 scale=2.0000 norm=16.2899\n",
      "== Early stopping achieved.\n",
      "== Best iteration / VAL224 (val_loss=4.5453)\n"
     ]
    }
   ],
   "source": [
    "model = NGB()\n",
    "feature_set = [\"morgan\"]\n",
    "neval = ModelEvaluator(data_dir, name, feature_set, model)\n",
    "\n",
    "m, a, b = neval.evaluate_hold_out(n_repeats=10)\n"
   ]
  },
  {
   "cell_type": "code",
   "execution_count": 10,
   "id": "3fdbfca9",
   "metadata": {},
   "outputs": [
    {
     "data": {
      "text/html": [
       "<div>\n",
       "<style scoped>\n",
       "    .dataframe tbody tr th:only-of-type {\n",
       "        vertical-align: middle;\n",
       "    }\n",
       "\n",
       "    .dataframe tbody tr th {\n",
       "        vertical-align: top;\n",
       "    }\n",
       "\n",
       "    .dataframe thead th {\n",
       "        text-align: right;\n",
       "    }\n",
       "</style>\n",
       "<table border=\"1\" class=\"dataframe\">\n",
       "  <thead>\n",
       "    <tr style=\"text-align: right;\">\n",
       "      <th></th>\n",
       "      <th>R^2</th>\n",
       "      <th>MAE</th>\n",
       "      <th>MMC</th>\n",
       "      <th>AMC</th>\n",
       "    </tr>\n",
       "  </thead>\n",
       "  <tbody>\n",
       "    <tr>\n",
       "      <th>mean</th>\n",
       "      <td>0.392037</td>\n",
       "      <td>18.048948</td>\n",
       "      <td>0.250725</td>\n",
       "      <td>0.121717</td>\n",
       "    </tr>\n",
       "    <tr>\n",
       "      <th>50%</th>\n",
       "      <td>0.401323</td>\n",
       "      <td>18.248594</td>\n",
       "      <td>0.236715</td>\n",
       "      <td>0.108494</td>\n",
       "    </tr>\n",
       "    <tr>\n",
       "      <th>std</th>\n",
       "      <td>0.155822</td>\n",
       "      <td>2.781911</td>\n",
       "      <td>0.083905</td>\n",
       "      <td>0.059882</td>\n",
       "    </tr>\n",
       "  </tbody>\n",
       "</table>\n",
       "</div>"
      ],
      "text/plain": [
       "           R^2        MAE       MMC       AMC\n",
       "mean  0.392037  18.048948  0.250725  0.121717\n",
       "50%   0.401323  18.248594  0.236715  0.108494\n",
       "std   0.155822   2.781911  0.083905  0.059882"
      ]
     },
     "execution_count": 10,
     "metadata": {},
     "output_type": "execute_result"
    }
   ],
   "source": [
    "m"
   ]
  },
  {
   "cell_type": "code",
   "execution_count": 11,
   "id": "f25db838",
   "metadata": {},
   "outputs": [
    {
     "data": {
      "text/plain": [
       "<matplotlib.lines._AxLine at 0x294287f40>"
      ]
     },
     "execution_count": 11,
     "metadata": {},
     "output_type": "execute_result"
    },
    {
     "data": {
      "image/png": "[encoded data removed]",
      "text/plain": [
       "<Figure size 432x288 with 1 Axes>"
      ]
     },
     "metadata": {
      "needs_background": "light"
     },
     "output_type": "display_data"
    }
   ],
   "source": [
    "fig = plt.figure()\n",
    "ax = fig.add_axes([0.1,0.1,0.75,0.75]) # axis starts at 0.1, 0.1\n",
    "ax.set_xlabel(\"Theoretical Quantiles\")\n",
    "ax.set_ylabel(\"Empirical Quantiles\")\n",
    "ax.errorbar(x = a.loc[\"mean\"].squeeze(), \n",
    "             y = b.loc[\"mean\"].squeeze(), yerr= b.loc[\"std\"].squeeze())\n",
    "ax.axline([0, 0], [1,1], c='gray')"
   ]
  },
  {
   "cell_type": "markdown",
   "id": "b2abcaa5",
   "metadata": {},
   "source": [
    "## Gaussian Process Regression"
   ]
  },
  {
   "cell_type": "code",
   "execution_count": 12,
   "id": "a35c2d0e",
   "metadata": {},
   "outputs": [
    {
     "name": "stdout",
     "output_type": "stream",
     "text": [
      "Masking 0 feature dims for ['morgan']\n"
     ]
    }
   ],
   "source": [
    "model = GPr(kernel='Tanimoto')\n",
    "feature_set = [\"morgan\"]\n",
    "neval = ModelEvaluator(data_dir, name, feature_set, model)\n",
    "\n",
    "m, a, b = neval.evaluate_hold_out(n_repeats=10)"
   ]
  },
  {
   "cell_type": "code",
   "execution_count": 13,
   "id": "dd7b980b",
   "metadata": {},
   "outputs": [
    {
     "data": {
      "text/html": [
       "<div>\n",
       "<style scoped>\n",
       "    .dataframe tbody tr th:only-of-type {\n",
       "        vertical-align: middle;\n",
       "    }\n",
       "\n",
       "    .dataframe tbody tr th {\n",
       "        vertical-align: top;\n",
       "    }\n",
       "\n",
       "    .dataframe thead th {\n",
       "        text-align: right;\n",
       "    }\n",
       "</style>\n",
       "<table border=\"1\" class=\"dataframe\">\n",
       "  <thead>\n",
       "    <tr style=\"text-align: right;\">\n",
       "      <th></th>\n",
       "      <th>R^2</th>\n",
       "      <th>MAE</th>\n",
       "      <th>MMC</th>\n",
       "      <th>AMC</th>\n",
       "    </tr>\n",
       "  </thead>\n",
       "  <tbody>\n",
       "    <tr>\n",
       "      <th>mean</th>\n",
       "      <td>0.500157</td>\n",
       "      <td>16.624872</td>\n",
       "      <td>0.149275</td>\n",
       "      <td>0.074365</td>\n",
       "    </tr>\n",
       "    <tr>\n",
       "      <th>50%</th>\n",
       "      <td>0.556860</td>\n",
       "      <td>16.057565</td>\n",
       "      <td>0.140097</td>\n",
       "      <td>0.059894</td>\n",
       "    </tr>\n",
       "    <tr>\n",
       "      <th>std</th>\n",
       "      <td>0.158386</td>\n",
       "      <td>2.635544</td>\n",
       "      <td>0.064148</td>\n",
       "      <td>0.043625</td>\n",
       "    </tr>\n",
       "  </tbody>\n",
       "</table>\n",
       "</div>"
      ],
      "text/plain": [
       "           R^2        MAE       MMC       AMC\n",
       "mean  0.500157  16.624872  0.149275  0.074365\n",
       "50%   0.556860  16.057565  0.140097  0.059894\n",
       "std   0.158386   2.635544  0.064148  0.043625"
      ]
     },
     "execution_count": 13,
     "metadata": {},
     "output_type": "execute_result"
    }
   ],
   "source": [
    "m"
   ]
  },
  {
   "cell_type": "code",
   "execution_count": 14,
   "id": "4cff2080",
   "metadata": {},
   "outputs": [
    {
     "data": {
      "text/plain": [
       "<matplotlib.lines._AxLine at 0x296e04550>"
      ]
     },
     "execution_count": 14,
     "metadata": {},
     "output_type": "execute_result"
    },
    {
     "data": {
      "image/png": "[encoded data removed]",
      "text/plain": [
       "<Figure size 432x288 with 1 Axes>"
      ]
     },
     "metadata": {
      "needs_background": "light"
     },
     "output_type": "display_data"
    }
   ],
   "source": [
    "fig = plt.figure()\n",
    "ax = fig.add_axes([0.1,0.1,0.75,0.75]) # axis starts at 0.1, 0.1\n",
    "ax.set_xlabel(\"Theoretical Quantiles\")\n",
    "ax.set_ylabel(\"Empirical Quantiles\")\n",
    "ax.errorbar(x = a.loc[\"mean\"].squeeze(), \n",
    "             y = b.loc[\"mean\"].squeeze(), yerr= b.loc[\"std\"].squeeze())\n",
    "ax.axline([0, 0], [1,1], c='gray')"
   ]
  },
  {
   "cell_type": "markdown",
   "id": "7b424fda",
   "metadata": {},
   "source": [
    "# Morgan + Mordred"
   ]
  },
  {
   "cell_type": "markdown",
   "id": "b10b608f",
   "metadata": {},
   "source": [
    "## NGBoost"
   ]
  },
  {
   "cell_type": "code",
   "execution_count": 15,
   "id": "3f434cf9",
   "metadata": {},
   "outputs": [
    {
     "name": "stdout",
     "output_type": "stream",
     "text": [
      "Masking 0 feature dims for ['mordred', 'morgan']\n",
      "[iter 0] loss=4.7651 val_loss=5.2499 scale=1.0000 norm=25.0830\n",
      "[iter 100] loss=4.2952 val_loss=4.9292 scale=2.0000 norm=27.5510\n",
      "[iter 200] loss=3.7882 val_loss=5.2290 scale=2.0000 norm=11.2453\n",
      "== Early stopping achieved.\n",
      "== Best iteration / VAL107 (val_loss=4.9263)\n",
      "[iter 0] loss=4.8676 val_loss=4.7170 scale=1.0000 norm=29.2918\n",
      "[iter 100] loss=4.4631 val_loss=4.6441 scale=2.0000 norm=34.3984\n",
      "[iter 200] loss=3.9403 val_loss=4.9664 scale=2.0000 norm=13.2399\n",
      "== Early stopping achieved.\n",
      "== Best iteration / VAL104 (val_loss=4.6429)\n",
      "[iter 0] loss=4.7498 val_loss=5.4499 scale=1.0000 norm=25.0389\n",
      "[iter 100] loss=4.2675 val_loss=4.8584 scale=2.0000 norm=26.8516\n",
      "[iter 200] loss=3.7583 val_loss=4.7921 scale=2.0000 norm=10.5939\n",
      "== Early stopping achieved.\n",
      "== Best iteration / VAL171 (val_loss=4.7462)\n",
      "[iter 0] loss=4.7951 val_loss=4.6666 scale=1.0000 norm=26.7381\n",
      "[iter 100] loss=4.3679 val_loss=4.5314 scale=2.0000 norm=30.2726\n",
      "[iter 200] loss=3.8647 val_loss=4.3961 scale=2.0000 norm=12.1039\n",
      "[iter 300] loss=3.3693 val_loss=4.7668 scale=2.0000 norm=5.0023\n",
      "== Early stopping achieved.\n",
      "== Best iteration / VAL203 (val_loss=4.3920)\n",
      "[iter 0] loss=4.8490 val_loss=4.8135 scale=1.0000 norm=28.3466\n",
      "[iter 100] loss=4.3433 val_loss=4.7568 scale=2.0000 norm=28.5009\n",
      "== Early stopping achieved.\n",
      "== Best iteration / VAL55 (val_loss=4.7451)\n",
      "[iter 0] loss=4.8321 val_loss=4.6529 scale=1.0000 norm=28.3998\n",
      "[iter 100] loss=4.4493 val_loss=4.4673 scale=1.0000 norm=17.2115\n",
      "[iter 200] loss=3.9809 val_loss=4.3158 scale=2.0000 norm=14.9111\n",
      "== Early stopping achieved.\n",
      "== Best iteration / VAL188 (val_loss=4.3141)\n",
      "[iter 0] loss=4.8623 val_loss=4.8348 scale=1.0000 norm=28.8252\n",
      "[iter 100] loss=4.4752 val_loss=4.6750 scale=2.0000 norm=35.4268\n",
      "[iter 200] loss=4.0384 val_loss=4.5533 scale=2.0000 norm=16.7361\n",
      "[iter 300] loss=3.5476 val_loss=4.8709 scale=2.0000 norm=7.1476\n",
      "== Early stopping achieved.\n",
      "== Best iteration / VAL205 (val_loss=4.5491)\n",
      "[iter 0] loss=4.8684 val_loss=4.8965 scale=1.0000 norm=28.7985\n",
      "[iter 100] loss=4.2736 val_loss=4.5249 scale=2.0000 norm=24.5196\n",
      "[iter 200] loss=3.7665 val_loss=4.4303 scale=2.0000 norm=9.3678\n",
      "== Early stopping achieved.\n",
      "== Best iteration / VAL175 (val_loss=4.4076)\n",
      "[iter 0] loss=4.7879 val_loss=5.0669 scale=1.0000 norm=25.7802\n",
      "[iter 100] loss=4.1484 val_loss=4.3937 scale=2.0000 norm=20.8539\n",
      "[iter 200] loss=3.6510 val_loss=4.0788 scale=2.0000 norm=8.4448\n",
      "[iter 300] loss=3.1608 val_loss=4.0487 scale=2.0000 norm=3.8775\n",
      "== Early stopping achieved.\n",
      "== Best iteration / VAL261 (val_loss=4.0108)\n",
      "[iter 0] loss=4.8254 val_loss=4.8648 scale=1.0000 norm=27.6646\n",
      "[iter 100] loss=4.4360 val_loss=4.8015 scale=1.0000 norm=16.8476\n",
      "== Early stopping achieved.\n",
      "== Best iteration / VAL75 (val_loss=4.7925)\n"
     ]
    }
   ],
   "source": [
    "model = NGB()\n",
    "feature_set = [\"mordred\", \"morgan\"]\n",
    "neval = ModelEvaluator(data_dir, name, feature_set, model)\n",
    "\n",
    "m, a, b = neval.evaluate_hold_out(n_repeats=10)\n"
   ]
  },
  {
   "cell_type": "code",
   "execution_count": 18,
   "id": "c6a7188c",
   "metadata": {},
   "outputs": [
    {
     "data": {
      "text/html": [
       "<div>\n",
       "<style scoped>\n",
       "    .dataframe tbody tr th:only-of-type {\n",
       "        vertical-align: middle;\n",
       "    }\n",
       "\n",
       "    .dataframe tbody tr th {\n",
       "        vertical-align: top;\n",
       "    }\n",
       "\n",
       "    .dataframe thead th {\n",
       "        text-align: right;\n",
       "    }\n",
       "</style>\n",
       "<table border=\"1\" class=\"dataframe\">\n",
       "  <thead>\n",
       "    <tr style=\"text-align: right;\">\n",
       "      <th></th>\n",
       "      <th>R^2</th>\n",
       "      <th>MAE</th>\n",
       "      <th>MMC</th>\n",
       "      <th>AMC</th>\n",
       "    </tr>\n",
       "  </thead>\n",
       "  <tbody>\n",
       "    <tr>\n",
       "      <th>mean</th>\n",
       "      <td>0.430132</td>\n",
       "      <td>17.166161</td>\n",
       "      <td>0.241063</td>\n",
       "      <td>0.129871</td>\n",
       "    </tr>\n",
       "    <tr>\n",
       "      <th>50%</th>\n",
       "      <td>0.470675</td>\n",
       "      <td>18.049741</td>\n",
       "      <td>0.198068</td>\n",
       "      <td>0.096753</td>\n",
       "    </tr>\n",
       "    <tr>\n",
       "      <th>std</th>\n",
       "      <td>0.257112</td>\n",
       "      <td>3.576342</td>\n",
       "      <td>0.128914</td>\n",
       "      <td>0.085378</td>\n",
       "    </tr>\n",
       "  </tbody>\n",
       "</table>\n",
       "</div>"
      ],
      "text/plain": [
       "           R^2        MAE       MMC       AMC\n",
       "mean  0.430132  17.166161  0.241063  0.129871\n",
       "50%   0.470675  18.049741  0.198068  0.096753\n",
       "std   0.257112   3.576342  0.128914  0.085378"
      ]
     },
     "execution_count": 18,
     "metadata": {},
     "output_type": "execute_result"
    }
   ],
   "source": [
    "m"
   ]
  },
  {
   "cell_type": "code",
   "execution_count": 19,
   "id": "4cf1be21",
   "metadata": {},
   "outputs": [
    {
     "data": {
      "text/plain": [
       "<matplotlib.lines._AxLine at 0x295cabe50>"
      ]
     },
     "execution_count": 19,
     "metadata": {},
     "output_type": "execute_result"
    },
    {
     "data": {
      "image/png": "[encoded data removed]",
      "text/plain": [
       "<Figure size 432x288 with 1 Axes>"
      ]
     },
     "metadata": {
      "needs_background": "light"
     },
     "output_type": "display_data"
    }
   ],
   "source": [
    "fig = plt.figure()\n",
    "ax = fig.add_axes([0.1,0.1,0.75,0.75]) # axis starts at 0.1, 0.1\n",
    "ax.set_xlabel(\"Theoretical Quantiles\")\n",
    "ax.set_ylabel(\"Empirical Quantiles\")\n",
    "ax.errorbar(x = a.loc[\"mean\"].squeeze(), \n",
    "             y = b.loc[\"mean\"].squeeze(), yerr= b.loc[\"std\"].squeeze())\n",
    "ax.axline([0, 0], [1,1], c='gray')"
   ]
  },
  {
   "cell_type": "code",
   "execution_count": null,
   "id": "26ed015d",
   "metadata": {},
   "outputs": [],
   "source": []
  }
 ],
 "metadata": {
  "kernelspec": {
   "display_name": "Python 3",
   "language": "python",
   "name": "python3"
  },
  "language_info": {
   "codemirror_mode": {
    "name": "ipython",
    "version": 3
   },
   "file_extension": ".py",
   "mimetype": "text/x-python",
   "name": "python",
   "nbconvert_exporter": "python",
   "pygments_lexer": "ipython3",
   "version": "3.8.16"
  }
 },
 "nbformat": 4,
 "nbformat_minor": 5
}
